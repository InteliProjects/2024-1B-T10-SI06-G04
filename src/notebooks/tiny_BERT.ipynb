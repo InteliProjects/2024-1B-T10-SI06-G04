{
  "cells": [
    {
      "cell_type": "markdown",
      "metadata": {},
      "source": [
        "# Setup TinyBERT"
      ]
    },
    {
      "cell_type": "markdown",
      "metadata": {},
      "source": [
        "Este notebook utiliza o TinyBERT, uma versão compacta e eficiente do modelo BERT. O TinyBERT foi projetado para ser menor e mais rápido, sem perder muito em termos de precisão e desempenho. A versão do modelo utilizada neste trabalho é a TinyBERT_General_4L_312D, desenvolvida pela Huawei. Esse modelo é pré-treinado e otimizado para ser eficiente tanto em termos de espaço quanto de tempo de computação, mantendo um desempenho competitivo para diversas tarefas de Processamento de Linguagem Natural (PLN). Referências para o código e mais detalhes podem ser encontradas na documentação desse projeto."
      ]
    },
    {
      "cell_type": "markdown",
      "metadata": {},
      "source": [
        "## Baixar os pacotes"
      ]
    },
    {
      "cell_type": "code",
      "execution_count": null,
      "metadata": {
        "colab": {
          "base_uri": "https://localhost:8080/"
        },
        "id": "X6Z72PN697r5",
        "outputId": "ac51d982-bc94-4001-992c-f76d888037ee"
      },
      "outputs": [
        {
          "ename": "",
          "evalue": "",
          "output_type": "error",
          "traceback": [
            "\u001b[1;31mFailed to start the Kernel. \n",
            "\u001b[1;31mUnable to start Kernel 'Python 3.12.3' due to a timeout waiting for the ports to get used. \n",
            "\u001b[1;31mView Jupyter <a href='command:jupyter.viewOutput'>log</a> for further details."
          ]
        }
      ],
      "source": [
        "!pip install datasets transformers accelerate -q"
      ]
    },
    {
      "cell_type": "markdown",
      "metadata": {},
      "source": [
        "## Treino da Rede Neural"
      ]
    },
    {
      "cell_type": "markdown",
      "metadata": {},
      "source": [
        "A partir daqui, inicializaremos a construção da rede neural utilizando o TinyBERT. Redes neurais são amplamente utilizadas em diversas tarefas de aprendizado de máquina, incluindo reconhecimento de padrões, visão computacional e PLN - que é o contexto desse projeto."
      ]
    },
    {
      "cell_type": "markdown",
      "metadata": {},
      "source": [
        "### 1. Bibliotecas Necessárias"
      ]
    },
    {
      "cell_type": "code",
      "execution_count": 2,
      "metadata": {
        "id": "KgwspmJb9-GL"
      },
      "outputs": [],
      "source": [
        "import torch\n",
        "from datasets import load_dataset, Dataset, load_metric\n",
        "from transformers import AutoTokenizer, AutoModelForSequenceClassification, TrainingArguments, Trainer\n",
        "import pandas as pd\n",
        "import numpy as np\n",
        "from sklearn.metrics import precision_recall_fscore_support, accuracy_score\n",
        "\n",
        "device = torch.device(\"cuda\" if torch.cuda.is_available() else \"cpu\")\n"
      ]
    },
    {
      "cell_type": "markdown",
      "metadata": {},
      "source": [
        "### 2. Preparação do Dataset"
      ]
    },
    {
      "cell_type": "code",
      "execution_count": 3,
      "metadata": {
        "id": "90Ml_iP1-CYG"
      },
      "outputs": [],
      "source": [
        "# Carregando o dataset\n",
        "df = pd.read_csv(\"../data/processed_classification-labeled.csv\")\n",
        "# Ajustando a coluna 'sentiment' para que 0 e 1 sejam considerados não-negativos (0) e -1 permaneça como negativo (1)\n",
        "df['label'] = df['sentiment'].apply(lambda x: 0 if x in [0, 1] else 1)\n",
        "\n",
        "# Transformando o DataFrame em um Dataset do HuggingFace\n",
        "dataset = Dataset.from_pandas(df)\n",
        "\n",
        "# Dividindo o dataset em treinamento e validação\n",
        "train_test_dataset = dataset.train_test_split(test_size=0.2)\n",
        "train_dataset = train_test_dataset['train']\n",
        "valid_dataset = train_test_dataset['test']\n"
      ]
    },
    {
      "cell_type": "markdown",
      "metadata": {},
      "source": [
        "### 3. Tokenização"
      ]
    },
    {
      "cell_type": "code",
      "execution_count": null,
      "metadata": {
        "id": "TmoCZNgc-ERd"
      },
      "outputs": [],
      "source": [
        "model_checkpoint = \"huawei-noah/TinyBERT_General_4L_312D\"\n",
        "tokenizer = AutoTokenizer.from_pretrained(model_checkpoint)\n",
        "\n",
        "def tokenize_function(examples):\n",
        "    return tokenizer(examples['pos_tokens'], padding=\"max_length\", truncation=True)\n",
        "\n",
        "train_dataset = train_dataset.map(tokenize_function, batched=True)\n",
        "valid_dataset = valid_dataset.map(tokenize_function, batched=True)\n"
      ]
    },
    {
      "cell_type": "markdown",
      "metadata": {},
      "source": [
        "### 4. Carregamento do Modelo e Definição de Métricas"
      ]
    },
    {
      "cell_type": "code",
      "execution_count": null,
      "metadata": {
        "id": "AbcHIkMO-F5A"
      },
      "outputs": [],
      "source": [
        "model = AutoModelForSequenceClassification.from_pretrained(model_checkpoint, num_labels=2).to(device)\n",
        "\n",
        "def compute_metrics(pred):\n",
        "    labels = pred.label_ids\n",
        "    preds = pred.predictions.argmax(-1)\n",
        "    precision, recall, f1, _ = precision_recall_fscore_support(labels, preds, average=None, labels=[0, 1])\n",
        "    acc = accuracy_score(labels, preds)\n",
        "    return {\n",
        "        'accuracy': acc,\n",
        "        'f1_negativos': f1[1],\n",
        "        'f1_nao_negativos': f1[0],\n",
        "        'recall_negativos': recall[1],\n",
        "        'recall_nao_negativos': recall[0],\n",
        "        'precision_negativos': precision[1],\n",
        "        'precision_nao_negativos': precision[0]\n",
        "    }\n"
      ]
    },
    {
      "cell_type": "markdown",
      "metadata": {},
      "source": [
        "### 5. Configuração e Treinamento do Modelo"
      ]
    },
    {
      "cell_type": "code",
      "execution_count": 6,
      "metadata": {
        "colab": {
          "base_uri": "https://localhost:8080/",
          "height": 228
        },
        "id": "h8-NCDJT-JCt",
        "outputId": "9090829b-c484-4b43-b04c-8f0e7501dbbc"
      },
      "outputs": [
        {
          "name": "stderr",
          "output_type": "stream",
          "text": [
            "/usr/local/lib/python3.10/dist-packages/transformers/training_args.py:1474: FutureWarning: `evaluation_strategy` is deprecated and will be removed in version 4.46 of 🤗 Transformers. Use `eval_strategy` instead\n",
            "  warnings.warn(\n"
          ]
        },
        {
          "data": {
            "text/html": [
              "\n",
              "    <div>\n",
              "      \n",
              "      <progress value='576' max='576' style='width:300px; height:20px; vertical-align: middle;'></progress>\n",
              "      [576/576 07:46, Epoch 2/2]\n",
              "    </div>\n",
              "    <table border=\"1\" class=\"dataframe\">\n",
              "  <thead>\n",
              " <tr style=\"text-align: left;\">\n",
              "      <th>Epoch</th>\n",
              "      <th>Training Loss</th>\n",
              "      <th>Validation Loss</th>\n",
              "      <th>Accuracy</th>\n",
              "      <th>F1 Negativos</th>\n",
              "      <th>F1 Nao Negativos</th>\n",
              "      <th>Recall Negativos</th>\n",
              "      <th>Recall Nao Negativos</th>\n",
              "      <th>Precision Negativos</th>\n",
              "      <th>Precision Nao Negativos</th>\n",
              "    </tr>\n",
              "  </thead>\n",
              "  <tbody>\n",
              "    <tr>\n",
              "      <td>1</td>\n",
              "      <td>No log</td>\n",
              "      <td>0.425986</td>\n",
              "      <td>0.805556</td>\n",
              "      <td>0.861386</td>\n",
              "      <td>0.674419</td>\n",
              "      <td>0.878788</td>\n",
              "      <td>0.644444</td>\n",
              "      <td>0.844660</td>\n",
              "      <td>0.707317</td>\n",
              "    </tr>\n",
              "    <tr>\n",
              "      <td>2</td>\n",
              "      <td>0.458600</td>\n",
              "      <td>0.398737</td>\n",
              "      <td>0.815972</td>\n",
              "      <td>0.865482</td>\n",
              "      <td>0.708791</td>\n",
              "      <td>0.861111</td>\n",
              "      <td>0.716667</td>\n",
              "      <td>0.869898</td>\n",
              "      <td>0.701087</td>\n",
              "    </tr>\n",
              "  </tbody>\n",
              "</table><p>"
            ],
            "text/plain": [
              "<IPython.core.display.HTML object>"
            ]
          },
          "metadata": {},
          "output_type": "display_data"
        },
        {
          "data": {
            "text/plain": [
              "TrainOutput(global_step=576, training_loss=0.4469796352916294, metrics={'train_runtime': 468.4217, 'train_samples_per_second': 9.82, 'train_steps_per_second': 1.23, 'total_flos': 13455467605104.0, 'train_loss': 0.4469796352916294, 'epoch': 2.0})"
            ]
          },
          "execution_count": 6,
          "metadata": {},
          "output_type": "execute_result"
        }
      ],
      "source": [
        "training_args = TrainingArguments(\n",
        "    output_dir=\"./results\",\n",
        "    evaluation_strategy=\"epoch\",\n",
        "    learning_rate=2e-5,\n",
        "    per_device_train_batch_size=8,\n",
        "    per_device_eval_batch_size=8,\n",
        "    num_train_epochs=2,\n",
        "    weight_decay=0.01\n",
        ")\n",
        "\n",
        "trainer = Trainer(\n",
        "    model=model,\n",
        "    args=training_args,\n",
        "    train_dataset=train_dataset,\n",
        "    eval_dataset=valid_dataset,\n",
        "    tokenizer=tokenizer,\n",
        "    compute_metrics=compute_metrics\n",
        ")\n",
        "\n",
        "trainer.train()\n"
      ]
    },
    {
      "cell_type": "code",
      "execution_count": null,
      "metadata": {},
      "outputs": [],
      "source": [
        "# @article{jiao2019tinybert,\n",
        "# title={Tinybert: Distilling bert for natural language understanding},\n",
        "# uthor={Jiao, Xiaoqi and Yin, Yichun and Shang, Lifeng and Jiang, Xin and Chen, Xiao and Li, Linlin and Wang, Fang and Liu, Qun},\n",
        "# journal={arXiv preprint arXiv:1909.10351},\n",
        " # year={2019}\n",
        "\n"
      ]
    },
    {
      "cell_type": "markdown",
      "metadata": {},
      "source": [
        "O modelo TinyBERT foi treinado em duas épocas e obteve as seguintes métricas de desempenho: Loss de Treinamento, Loss de Validação, Acurácia, F1 Negativos, F1 Não Negativos, Recall Negativos, Recall Não Negativos, Precisão Negativos e Precisão Não Negativos. O modelo apresentou uma melhoria geral nas métricas ao longo de duas épocas de treinamento. O Loss de Validação diminuiu de 0.425986 para 0.398737, indicando melhor capacidade de generalização. A acurácia aumentou ligeiramente de 0.805556 para 0.815972, enquanto o F1-Score para a classe dos negativos subiu de 0.861386 para 0.865482 e para a classe dos não negativos aumentou significativamente de 0.674419 para 0.708791, refletindo uma melhor previsão dessa classe. O recall dos negativos diminuiu levemente de 0.878788 para 0.861111, mas para os não negativos aumentou de 0.644444 para 0.716667. A precisão dos negativos melhorou de 0.844660 para 0.869898, enquanto a dos não negativos caiu levemente de 0.707317 para 0.701087. Em conclusão, o modelo demonstra um progresso positivo, apesar de um pequeno trade-off entre recall e precisão."
      ]
    },
    {
      "cell_type": "markdown",
      "metadata": {},
      "source": [
        "### 6. Avaliação e Vizualização dos Resultados"
      ]
    },
    {
      "cell_type": "code",
      "execution_count": 11,
      "metadata": {
        "colab": {
          "base_uri": "https://localhost:8080/",
          "height": 564
        },
        "id": "1UWnNEO2EgEQ",
        "outputId": "ed57d317-ff1f-46f0-a7c9-60e7fd8498a7"
      },
      "outputs": [
        {
          "data": {
            "text/html": [],
            "text/plain": [
              "<IPython.core.display.HTML object>"
            ]
          },
          "metadata": {},
          "output_type": "display_data"
        },
        {
          "data": {
            "image/png": "[encoded data removed]",
            "text/plain": [
              "<Figure size 800x600 with 2 Axes>"
            ]
          },
          "metadata": {},
          "output_type": "display_data"
        }
      ],
      "source": [
        "from sklearn.metrics import confusion_matrix\n",
        "import matplotlib.pyplot as plt\n",
        "import seaborn as sns\n",
        "predictions = trainer.predict(valid_dataset)\n",
        "pred_labels = np.argmax(predictions.predictions, axis=1)\n",
        "\n",
        "# Matriz de Confusão\n",
        "cm = confusion_matrix(predictions.label_ids, pred_labels)\n",
        "plt.figure(figsize=(8, 6))\n",
        "sns.heatmap(cm, annot=True, fmt=\"d\", cmap=\"Blues\", xticklabels=[\"Non-Negative\", \"Negative\"], yticklabels=[\"Non-Negative\", \"Negative\"])\n",
        "plt.xlabel(\"Predicted Labels\")\n",
        "plt.ylabel(\"True Labels\")\n",
        "plt.title(\"Confusion Matrix\")\n",
        "plt.show()"
      ]
    },
    {
      "cell_type": "markdown",
      "metadata": {},
      "source": [
        "A matriz de confusão mostra que o modelo TinyBERT classificou corretamente 341 exemplos negativos e 129 não negativos, com 55 falsos negativos e 51 falsos positivos. Isso confirma as métricas discutidas, como o aumento no recall dos não negativos, que passou de 0.644444 para 0.716667, e a ligeira queda no recall dos negativos de 0.878788 para 0.861111. A precisão dos negativos aumentou de 0.844660 para 0.869898, enquanto a dos não negativos caiu levemente de 0.707317 para 0.701087. A matriz evidencia a melhora geral do modelo na classificação, apesar do pequeno trade-off entre recall e precisão."
      ]
    },
    {
      "cell_type": "markdown",
      "metadata": {},
      "source": [
        "O TinyBERT supera os modelos Bag of Words (BoW) com Naive Bayes e Regressão Logística, que mostraram limitações na classificação precisa de sentimentos, com acurácias de apenas 0.7066 e 0.7448, respectivamente. Além disso, embora o Word2Vec com Random Forest tenha alcançado uma alta acurácia de 0.98, testes adicionais revelaram problemas de overfitting, comprometendo a viabilidade desses resultados para aplicações práticas. Portanto, o TinyBERT se destaca por sua consistência em comparação com esses modelos."
      ]
    }
  ],
  "metadata": {
    "colab": {
      "provenance": []
    },
    "kernelspec": {
      "display_name": "Python 3",
      "name": "python3"
    },
    "language_info": {
      "name": "python",
      "version": "3.12.3"
    }
  },
  "nbformat": 4,
  "nbformat_minor": 0
}
